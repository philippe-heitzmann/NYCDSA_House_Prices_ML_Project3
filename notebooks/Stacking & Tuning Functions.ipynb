{
 "cells": [
  {
   "cell_type": "code",
   "execution_count": 31,
   "metadata": {},
   "outputs": [],
   "source": [
    "#importing required packages \n",
    "import pandas as pd \n",
    "import numpy as np\n",
    "import matplotlib.pyplot as plt\n",
    "from sklearn.feature_selection import RFECV\n",
    "from sklearn.model_selection import train_test_split\n",
    "from sklearn.model_selection import cross_val_score\n",
    "from sklearn.model_selection import GridSearchCV\n",
    "from sklearn.svm import SVR\n",
    "from sklearn.linear_model import LinearRegression, Ridge, Lasso, HuberRegressor, ElasticNet, BayesianRidge\n",
    "from sklearn.ensemble import AdaBoostRegressor, GradientBoostingRegressor, RandomForestRegressor\n",
    "import time\n",
    "from xgboost import XGBRegressor"
   ]
  },
  {
   "cell_type": "code",
   "execution_count": null,
   "metadata": {},
   "outputs": [],
   "source": [
    "#loading the data and setting my features and target variables in the training data \n",
    "trainh = pd.read_csv('train (1).csv', sep=',')\n",
    "testh = pd.read_csv('test (1).csv', sep=',')\n",
    "features, target = trainh.iloc[:,:-1], trainh.iloc[:,-1]\n",
    "combineddf = pd.concat([trainh, testh], axis = 0)\n",
    "combineddf.index = list(range(0,2919))\n",
    "combineddf"
   ]
  },
  {
   "cell_type": "code",
   "execution_count": null,
   "metadata": {},
   "outputs": [],
   "source": [
    "#using our previously created PreProcess function to preprocess our data to subsequently start tuning and stacking\n",
    "def PreProcess(combineddf):\n",
    "    \"\"\"\n",
    "    #Keyword Arguments\n",
    "    -----------------\n",
    "    **Inputs**\n",
    "    combineddf -- your dataframe combining training and test sets. See repository for .csv file \n",
    "    \n",
    "    **Outputs**\n",
    "    finaltrain -- your cleaned training dataset in .csv format \n",
    "    finaltest -- your cleaned testing dataset in .csv format\n",
    "    \"\"\"\n",
    "    \n",
    "    #splitting the combineddf into training and test sets \n",
    "    traindf = combineddf.iloc[:1460, :]\n",
    "    testdf = combineddf.iloc[1460:, :]\n",
    "    \n",
    "    #removing GrLivArea outliers in the traindf dataset\n",
    "    traindf = traindf.drop(traindf[(traindf.GrLivArea > 4500)].index)\n",
    "    \n",
    "    #removing LotFrontage outliers in the training dataset\n",
    "    traindf = traindf.drop(traindf[(traindf.LotFrontage > 300)].index)\n",
    "    \n",
    "    #storing SalePrice from the training dataset as pandas Series\n",
    "    global target\n",
    "    target = traindf.SalePrice\n",
    "    #dropping SalePrice from the training and testing datasets\n",
    "    traindf = traindf.drop(['SalePrice'], axis = 1)\n",
    "    testdf = testdf.drop(['SalePrice'], axis = 1)\n",
    "\n",
    "    #concatenating training and testing datasets back together \n",
    "    fulldf = pd.concat([traindf, testdf], sort = False)  \n",
    "\n",
    "    \n",
    "    \"\"\"\n",
    "    \n",
    "    **Imputing / Dropping variables with NA values**\n",
    "    \n",
    "    \"\"\"\n",
    "    \n",
    "    #given that RL is by far the most common value in the data set with 77% of values, we can fill in missing values as RL \n",
    "    fulldf['MSZoning'] = fulldf['MSZoning'].fillna('RL')\n",
    "    \n",
    "    #replacing missing LotFrontage values with the mean values for each Neighborhood\n",
    "    fulldf['LotFrontage'] = fulldf.groupby('Neighborhood').LotFrontage.transform(lambda x: x.fillna(x.mean())).astype(int)\n",
    "    \n",
    "    #NA means no alley access, so making Alley binary variable with 0 = No Alley access and 1 = Alley Access \n",
    "    fulldf['Alley'] = fulldf['Alley'].fillna('NoAlley')\n",
    "    fulldf['Alley'] = fulldf['Alley'].replace({'NoAlley':0,'Grvl':1,'Pave':1})\n",
    "    \n",
    "    #Condition2 is 99% Norm, therefore drop\n",
    "    fulldf = fulldf.drop(['Condition2'], axis = 1)\n",
    "    \n",
    "    #given 99% of values in Utilities are AllPub, this doesn't add much information and should therefore be dropped\n",
    "    fulldf = fulldf.drop([\"Utilities\"], axis = 1)\n",
    "    \n",
    "    #filling in missing GarageYrBlt values with the same values as year built\n",
    "    fulldf['GarageYrBlt'] = fulldf['GarageYrBlt'].fillna(fulldf['YearBuilt'])\n",
    "    \n",
    "    #dropping RoofMatl as 98% of values in full dataset are CompShg\n",
    "    fulldf = fulldf.drop(['RoofMatl'], axis = 1)\n",
    "    \n",
    "    #imputing the one NA in both Exterior1st and Exterior2nd with the mode of each \n",
    "    fulldf['Exterior1st'] = fulldf['Exterior1st'].fillna(fulldf['Exterior1st'].mode()[0])\n",
    "    fulldf['Exterior2nd'] = fulldf['Exterior2nd'].fillna(fulldf['Exterior2nd'].mode()[0])\n",
    "    \n",
    "    #assuming Masonry Veneer missing values mean none and imputing as None for Type and 0 for Area \n",
    "    fulldf['MasVnrType'] = fulldf['MasVnrType'].fillna('None')\n",
    "    fulldf['MasVnrArea'] = fulldf['MasVnrArea'].fillna(0)\n",
    "    \n",
    "    #basement variables with NA mean no basement, replace with None \n",
    "    for x in ['BsmtQual', 'BsmtFinType1', 'BsmtFinType2', 'BsmtCond', 'BsmtExposure']:\n",
    "        fulldf[x] = fulldf[x].fillna('None')\n",
    "        \n",
    "    #imputing the one missing values in BsmtFinSF1, BsmtFinSF2, BsmtUnfSF, variables as 0, likely means no basement \n",
    "    fulldf['BsmtFinSF1'] = fulldf['BsmtFinSF1'].fillna(0)\n",
    "    fulldf['BsmtFinSF2'] = fulldf['BsmtFinSF2'].fillna(0)\n",
    "    fulldf['BsmtUnfSF'] = fulldf['BsmtUnfSF'].fillna(0)\n",
    "    fulldf['TotalBsmtSF'] = fulldf['TotalBsmtSF'].fillna(0)\n",
    "    \n",
    "    #imputing missing value in the Electrical column as the mode\n",
    "    fulldf['Electrical'] = fulldf['Electrical'].fillna(fulldf['Electrical'].mode()[0])\n",
    "    \n",
    "    #dropping LowQualFinSF variable given 99% of values are 0\n",
    "    fulldf = fulldf.drop(['LowQualFinSF'], axis = 1)\n",
    "    \n",
    "    #imputing BsmtHalfBath and BsmtFullBath NA's as 0 \n",
    "    for x in ['BsmtHalfBath','BsmtFullBath']:\n",
    "        fulldf[x] = fulldf[x].fillna(0)\n",
    "        \n",
    "    #imputing the one missing value in KitchenQual as the mode\n",
    "    fulldf['KitchenQual'] = fulldf['KitchenQual'].fillna(fulldf.KitchenQual.mode()[0])\n",
    "    \n",
    "    #imputing the two missing values in Functional as the mode\n",
    "    fulldf['Functional'] = fulldf['Functional'].fillna(fulldf.Functional.mode()[0])\n",
    "    \n",
    "    #imputing NA values as Nonee in FireplaceQual variable \n",
    "    fulldf['FireplaceQu'] = fulldf['FireplaceQu'].fillna('None')\n",
    "    \n",
    "    #filling in the NA values as 'None' for GarageType, GarageFinish and GarageQual\n",
    "    fulldf['GarageType'] = fulldf['GarageType'].fillna('None')\n",
    "    fulldf['GarageFinish'] = fulldf['GarageFinish'].fillna('None')\n",
    "    fulldf['GarageQual'] = fulldf['GarageQual'].fillna('None')\n",
    "\n",
    "    #filling in missing GarageCars and GarageArea values as 0 \n",
    "    fulldf['GarageCars'] = fulldf['GarageCars'].fillna(0)\n",
    "    fulldf['GarageArea'] = fulldf['GarageArea'].fillna(0)\n",
    "\n",
    "    #filling in missing GarageCond values as 0 \n",
    "    fulldf['GarageCond'] = fulldf['GarageCond'].fillna('None')\n",
    "    \n",
    "    #filling in missing PoolQC values as 0 as NA = 'None' per documentation\n",
    "    fulldf['PoolQC'] = fulldf['PoolQC'].fillna('None')\n",
    "    \n",
    "    #filling in missing Fence values as 0 as NA = 'None' per documentation\n",
    "    fulldf['Fence'] = fulldf['Fence'].fillna('None')\n",
    "    \n",
    "    #dropping MiscVal column\n",
    "    fulldf = fulldf.drop(['MiscVal'], axis = 1)\n",
    "    \n",
    "    #imputing the one missing value in SaleType as the mode\n",
    "    fulldf['SaleType'] = fulldf['SaleType'].fillna(fulldf.SaleType.mode()[0])\n",
    "\n",
    "    \n",
    "    \"\"\"\n",
    "    \n",
    "    **Dummifying qualitative variables**\n",
    "    \n",
    "    \"\"\"\n",
    "    \n",
    "    #creating new variable Is_Newer_SubClss capturing age using the MSSubClass variable \n",
    "    fulldf['Is_Newer_SubClass'] = fulldf['MSSubClass'].replace({20:1, 30:0, 40:0, 45:0, 50:0, 60:1, 70:0, 75:0, 80:0, 85:0, 90:0, 120:1, 150:0, 160:1, 180:0, 190:0})\n",
    "        \n",
    "    #converting MSSubClass variable to string for dummification later one \n",
    "    fulldf['MSSubClass'] = fulldf['MSSubClass'].astype(str)\n",
    "    \n",
    "    fulldf['LotShape'] = fulldf['LotShape'].replace({'Reg': 1, 'IR1': 0, 'IR2':0, 'IR3':0})\n",
    "    \n",
    "    #given 95% of LandSlope variables are for 'Gentle' slope, create 0/1 dummy variable for gentle vs non-gentle slopes\n",
    "    fulldf['Is_Slope_Gentle'] = (fulldf[\"LandSlope\"] == \"Gtl\") * 1\n",
    "    fulldf = fulldf.drop(['LandSlope'], axis = 1)\n",
    "    \n",
    "    #creating a TotalArea variable based on other square footage variables in dataset \n",
    "    property_area_cols = ['LotArea','TotalBsmtSF', '1stFlrSF', '2ndFlrSF', 'GrLivArea', 'GarageArea', 'WoodDeckSF', \n",
    "                 'OpenPorchSF', 'EnclosedPorch', '3SsnPorch', 'ScreenPorch']\n",
    "    fulldf[\"TotalArea\"] = fulldf[property_area_cols].sum(axis=1)\n",
    "    \n",
    "    #creating a proximity to railroad variable from Condition1 values\n",
    "    railroad_list = ['RRNn', 'RRAn', 'RRNe', 'RRAe']\n",
    "    fulldf['RR_Proximity'] = fulldf['Condition1'].apply(lambda x: 1 if x in railroad_list else 0)\n",
    "    \n",
    "    #creating new age variable to capture age of house at the time it was sold \n",
    "    fulldf['Age'] = fulldf['YrSold'] - fulldf['YearBuilt']\n",
    "    \n",
    "    #creating dummy variable to capture if a house was sold in the year it was built \n",
    "    fulldf['YearSoldYearBuilt'] = (fulldf['YearBuilt'] == fulldf['YrSold']) * 1\n",
    "    \n",
    "    #creating variable of square of year built\n",
    "    fulldf['SqYearBuilt'] = fulldf['YearBuilt'] ** 2\n",
    "    \n",
    "    #creating a variable capturing a remodeling \n",
    "    fulldf['Remodeled'] = (fulldf['YearBuilt'] != fulldf['YearRemodAdd']) * 1\n",
    "    \n",
    "    #creating binary variable == 1 if YearRemodAdd == YrSold\n",
    "    fulldf[\"RecentRemodel\"] = (fulldf[\"YearRemodAdd\"] == fulldf[\"YrSold\"]) * 1\n",
    "\n",
    "    #creating continuous variable YearsSinceRemodel capturing difference between YrSold and YearRemodAdd\n",
    "    fulldf[\"YearsSinceRemodel\"] = fulldf[\"YrSold\"] - fulldf[\"YearRemodAdd\"]\n",
    "    \n",
    "    #transforming ExterQual variable to take on ints for qualitative values \n",
    "    qual_dict_ext = {'Po':0, 'Fa':1, 'TA':2, 'Gd':3, 'Ex':4}\n",
    "    fulldf['ExterQual'] = fulldf['ExterQual'].replace(qual_dict_ext)\n",
    "    fulldf['ExterCond'] = fulldf['ExterCond'].replace(qual_dict_ext)\n",
    "    \n",
    "    #transforming BsmtQual and BsmtCond variables to take on ints for qualitative values \n",
    "    qual_dict1 = {'None':0, 'Po':1, 'Fa':2, 'TA':3, 'Gd':4, 'Ex':5}\n",
    "    fulldf['BsmtQual'] = fulldf['BsmtQual'].replace(qual_dict1)\n",
    "    fulldf['BsmtCond'] = fulldf['BsmtCond'].replace(qual_dict1)\n",
    "    \n",
    "    #transforming BsmtExposure to convert qualitative to numeric \n",
    "    qual_dict_bsmt2 = {'None': 0, 'No': 1, 'Mn': 2, 'Av': 3, 'Gd': 4}\n",
    "    fulldf['BsmtExposure'] = fulldf['BsmtExposure'].replace(qual_dict_bsmt2)\n",
    "    \n",
    "    #transforming BsmtFinType1 & BsmtFinType2 to convert qualitative values to numeric \n",
    "    qual_dict_bsmt3 = {'None': 0, \"Unf\": 1, \"LwQ\": 2, \"Rec\": 3, \"BLQ\": 4, \"ALQ\": 5, \"GLQ\": 6}\n",
    "    fulldf['BsmtFinType1'] = fulldf['BsmtFinType1'].replace(qual_dict_bsmt3)\n",
    "    fulldf['BsmtFinType2'] = fulldf['BsmtFinType2'].replace(qual_dict_bsmt3)\n",
    "    \n",
    "    #mapping HeatingQC qualitative values to numeric\n",
    "    fulldf['HeatingQC'] = fulldf['HeatingQC'].replace(qual_dict1)\n",
    "    \n",
    "    #making CentralAir variable binary\n",
    "    fulldf['CentralAir'] = (fulldf['CentralAir'] == 'Y') * 1\n",
    "    \n",
    "    #making Has2ndFloor variable if house has a 2nd floor \n",
    "    fulldf['Has2ndFloor'] = (fulldf['2ndFlrSF'] > 0) * 1\n",
    "    \n",
    "    #creating 1st + 2nd Total livable area variable\n",
    "    fulldf['Area1st2nd'] = fulldf['1stFlrSF'] + fulldf['2ndFlrSF']\n",
    "    \n",
    "    #mapping KitchenQual variable \n",
    "    fulldf['KitchenQual'] = fulldf['KitchenQual'].replace(qual_dict1)\n",
    "    \n",
    "    #creating a new Has_Pool 0/1 variable \n",
    "    fulldf['PoolArea'] = fulldf['PoolArea'].apply(lambda x: 1 if x > 0 else 0)\n",
    "    fulldf.rename(columns={'PoolArea': 'Has_Pool'}, inplace=True)\n",
    "    \n",
    "    #mapping Functinal variable to convert to int values \n",
    "    fulldf[\"Functional\"] = fulldf[\"Functional\"].map({None: 0, \"Sal\": 1, \"Sev\": 2, \"Maj2\": 3, \"Maj1\": 4, \n",
    "         \"Mod\": 5, \"Min2\": 6, \"Min1\": 7, \"Typ\": 8}).astype(int)\n",
    "    \n",
    "    #creating HasFireplace boolean if Fireplaces > 0\n",
    "    fulldf['HasFireplace'] = (fulldf['Fireplaces'] > 0) * 1\n",
    "\n",
    "    #mapping FireplaceQual variable \n",
    "    fulldf['FireplaceQu'] = fulldf['FireplaceQu'].replace(qual_dict1)\n",
    "    \n",
    "    #mapping GarageQual variable to make it ordinal\n",
    "    fulldf['GarageQual'] = fulldf['GarageQual'].replace(qual_dict1)\n",
    "    \n",
    "    #mapping GarageCond variable to make it ordinal\n",
    "    fulldf['GarageCond'] = fulldf['GarageCond'].replace(qual_dict1)\n",
    "    \n",
    "    #creating HasWoodDeck variable if house has a wood deck\n",
    "    fulldf[\"HasWoodDeck\"] = (fulldf[\"WoodDeckSF\"] > 0) * 1\n",
    "    \n",
    "    #creating HasOpenPorch variable if house has an open porch \n",
    "    fulldf[\"HasEnclosedPorch\"] = (fulldf[\"EnclosedPorch\"] > 0) * 1\n",
    "\n",
    "    #creating Has3snPorch variable if house has a three season porch \n",
    "    fulldf[\"Has3SsnPorch\"] = (fulldf[\"3SsnPorch\"] > 0) * 1\n",
    "    \n",
    "    #creating HasScreenporch variable if house has a screen porch \n",
    "    fulldf[\"HasScreenPorch\"] = (fulldf[\"ScreenPorch\"] > 0) * 1\n",
    "    \n",
    "    #mapping PoolQC variable to make it ordinal\n",
    "    fulldf['PoolQC'] = fulldf['PoolQC'].replace(qual_dict1)\n",
    "    \n",
    "    #mapping Fence variable\n",
    "    fulldf[\"Fence\"] = fulldf[\"Fence\"].map({'None': 0, \"MnWw\": 1, \"GdWo\": 2, \"MnPrv\": 3, \"GdPrv\": 4}).astype(int)\n",
    "\n",
    "    #creating a binary HasShed variable\n",
    "    fulldf[\"HasShed\"] = (fulldf[\"MiscFeature\"] == \"Shed\") * 1\n",
    "    \n",
    "    #converting MoSold to str to allow for dummification later on \n",
    "    fulldf['MoSold'] = fulldf['MoSold'].astype(str)\n",
    "    \n",
    "    \n",
    "    #getting dummies for all other variables \n",
    "    fulldf = pd.get_dummies(fulldf, drop_first = True)\n",
    "    \n",
    "    \"\"\"\n",
    "    \n",
    "    **Removing certain variables that would cause overfitting**\n",
    "    \n",
    "    \"\"\"\n",
    "    \n",
    "    #dropping the dummified railroad variables as RR_Proximity variables already captures this information\n",
    "    fulldf = fulldf.drop(['Condition1_RRAe', 'Condition1_RRAn', 'Condition1_RRNe', 'Condition1_RRNn','Id'], axis = 1)\n",
    "        \n",
    "    global df2 \n",
    "    df2 = fulldf\n",
    "    \n",
    "\n",
    "    print(fulldf)\n",
    "    \n",
    "PreProcess(combineddf)"
   ]
  },
  {
   "cell_type": "code",
   "execution_count": 34,
   "metadata": {},
   "outputs": [
    {
     "data": {
      "text/plain": [
       "((1457, 223), (1457,), (1457, 224))"
      ]
     },
     "execution_count": 34,
     "metadata": {},
     "output_type": "execute_result"
    }
   ],
   "source": [
    "#creating our new train and test sets \n",
    "df2train = df2[0:1457]\n",
    "df2test = df2[1457:]\n",
    "df2train_withtarget = pd.concat([df2train, target], axis = 1)\n",
    "df2train.shape, target.shape, df2train_withtarget.shape\n",
    "# df2train_withtarget.iloc[:,-1]"
   ]
  },
  {
   "cell_type": "code",
   "execution_count": 89,
   "metadata": {},
   "outputs": [
    {
     "name": "stdout",
     "output_type": "stream",
     "text": [
      "32 Features Select by RFEcv:\n",
      "Index(['LotFrontage', 'LotArea', 'OverallQual', 'OverallCond', 'YearBuilt',\n",
      "       'YearRemodAdd', 'MasVnrArea', 'ExterQual', 'BsmtQual', 'BsmtExposure',\n",
      "       'BsmtFinType1', 'BsmtFinSF1', 'BsmtUnfSF', 'TotalBsmtSF', 'CentralAir',\n",
      "       '1stFlrSF', '2ndFlrSF', 'GrLivArea', 'KitchenQual', 'TotRmsAbvGrd',\n",
      "       'FireplaceQu', 'GarageYrBlt', 'GarageCars', 'GarageArea', 'WoodDeckSF',\n",
      "       'OpenPorchSF', 'Is_Newer_SubClass', 'TotalArea', 'Age', 'SqYearBuilt',\n",
      "       'YearsSinceRemodel', 'Area1st2nd'],\n",
      "      dtype='object')\n"
     ]
    }
   ],
   "source": [
    "#finding the best x features using RFEcv for our RandomForestRegressor \n",
    "rf1 = RandomForestRegressor()\n",
    "rfecv2 = RFECV(estimator=rf1, n_jobs = -1, step=1, scoring = 'neg_mean_squared_error' ,cv=3)\n",
    "rfecv2.fit(df2train, target)\n",
    "\n",
    "select_features_rfecv2 = rfecv2.get_support()\n",
    "RFEcv2 = df2train.loc[:,select_features_rfecv2]\n",
    "print('{:d} Features Select by RFEcv:\\n{:}'.format(rfecv2.n_features_, RFEcv2.columns))"
   ]
  },
  {
   "cell_type": "code",
   "execution_count": 254,
   "metadata": {},
   "outputs": [],
   "source": [
    "#creating DataFrame of feature importances from our RFEcv object for RandomForest\n",
    "sortedfeatureimportances2 = np.concatenate((rfecv2.estimator_.feature_importances_[:10].reshape(-1,1), np.array(RFEcv2.columns[:10]).reshape(-1,1)), axis = 1)\n",
    "sortedfeatureimportances3 = pd.DataFrame(sortedfeatureimportances2, columns = ['Feature Importance','Name'])                           \n",
    "sortedfeatureimportances3 = sortedfeatureimportances1.sort_values(by = 'Feature Importance', ascending = True)                                                                               "
   ]
  },
  {
   "cell_type": "code",
   "execution_count": 255,
   "metadata": {},
   "outputs": [
    {
     "data": {
      "image/png": "[encoded data removed]",
      "text/plain": [
       "<Figure size 720x720 with 1 Axes>"
      ]
     },
     "metadata": {
      "needs_background": "light"
     },
     "output_type": "display_data"
    }
   ],
   "source": [
    "#plotting features importances for Random Forest RFEcv\n",
    "import matplotlib.pyplot as plt\n",
    "import matplotlib.cm as cm\n",
    "from matplotlib.colors import Normalize\n",
    "from numpy.random import rand\n",
    "\n",
    "data = [2,1]\n",
    "fig, ax = plt.subplots(1, 1, figsize=(10,10))\n",
    " \n",
    "# Get a color map\n",
    "my_cmap = cm.get_cmap('ocean')\n",
    " \n",
    "# Get normalize function (takes data in range [vmin, vmax] -> [0, 1])\n",
    "my_norm = Normalize(vmin=0, vmax=4)\n",
    " \n",
    "ax.barh(sortedfeatureimportances3['Name'], sortedfeatureimportances3['Feature Importance'], color=my_cmap(my_norm(data)))\n",
    "ax.set_xlabel(\"Cross Validation Score\", fontsize = 12)\n",
    "ax.set_ylabel(\"Feature\", fontsize = 12)\n",
    "ax.set_title(\"RandomForests Feature Importances\", fontsize = 14)\n",
    "plt.show()"
   ]
  },
  {
   "cell_type": "code",
   "execution_count": 69,
   "metadata": {},
   "outputs": [
    {
     "name": "stdout",
     "output_type": "stream",
     "text": [
      "210 Features Select by RFEcv:\n",
      "Index(['LotFrontage', 'LotArea', 'Alley', 'LotShape', 'OverallQual',\n",
      "       'OverallCond', 'YearBuilt', 'YearRemodAdd', 'MasVnrArea', 'ExterQual',\n",
      "       ...\n",
      "       'SaleType_ConLD', 'SaleType_ConLI', 'SaleType_ConLw', 'SaleType_New',\n",
      "       'SaleType_Oth', 'SaleType_WD', 'SaleCondition_AdjLand',\n",
      "       'SaleCondition_Alloca', 'SaleCondition_Family', 'SaleCondition_Normal'],\n",
      "      dtype='object', length=210)\n"
     ]
    }
   ],
   "source": [
    "#finding the best x features to include using the RFEcv method\n",
    "gbr4 = GradientBoostingRegressor()\n",
    "rfecv = RFECV(estimator=gbr4, n_jobs = -1, step=1, scoring = 'neg_mean_squared_error' ,cv=3)\n",
    "rfecv.fit(df2train, target)\n",
    "\n",
    "select_features_rfecv = rfecv.get_support()\n",
    "select_features_rfecv\n",
    "RFEcv = df2train.loc[:,select_features_rfecv]\n",
    "print('{:d} Features Select by RFEcv:\\n{:}'.format(rfecv.n_features_, RFEcv.columns))"
   ]
  },
  {
   "cell_type": "code",
   "execution_count": 70,
   "metadata": {},
   "outputs": [
    {
     "name": "stderr",
     "output_type": "stream",
     "text": [
      "/Users/philippeheitzmann/opt/anaconda3/lib/python3.7/site-packages/sklearn/linear_model/_coordinate_descent.py:531: ConvergenceWarning: Objective did not converge. You might want to increase the number of iterations. Duality gap: 348930160112.8071, tolerance: 920372703.0182943\n",
      "  positive)\n",
      "/Users/philippeheitzmann/opt/anaconda3/lib/python3.7/site-packages/sklearn/linear_model/_coordinate_descent.py:531: ConvergenceWarning: Objective did not converge. You might want to increase the number of iterations. Duality gap: 348930160112.8071, tolerance: 920372703.0182943\n",
      "  positive)\n"
     ]
    },
    {
     "name": "stdout",
     "output_type": "stream",
     "text": [
      "222 Features Select by RFEcv:\n",
      "Index(['LotFrontage', 'LotArea', 'Alley', 'LotShape', 'OverallQual',\n",
      "       'OverallCond', 'YearBuilt', 'YearRemodAdd', 'MasVnrArea', 'ExterQual',\n",
      "       ...\n",
      "       'SaleType_ConLI', 'SaleType_ConLw', 'SaleType_New', 'SaleType_Oth',\n",
      "       'SaleType_WD', 'SaleCondition_AdjLand', 'SaleCondition_Alloca',\n",
      "       'SaleCondition_Family', 'SaleCondition_Normal',\n",
      "       'SaleCondition_Partial'],\n",
      "      dtype='object', length=222)\n"
     ]
    },
    {
     "name": "stderr",
     "output_type": "stream",
     "text": [
      "/Users/philippeheitzmann/opt/anaconda3/lib/python3.7/site-packages/sklearn/linear_model/_coordinate_descent.py:531: ConvergenceWarning: Objective did not converge. You might want to increase the number of iterations. Duality gap: 348930160112.8071, tolerance: 920372703.0182943\n",
      "  positive)\n"
     ]
    }
   ],
   "source": [
    "#finding the best x features using RFEcv with our Lasso \n",
    "lasso1 = Lasso()\n",
    "rfecv3 = RFECV(estimator=lasso1, n_jobs = -1, step=1, scoring = 'neg_mean_squared_error' ,cv=3)\n",
    "rfecv3.fit(df2train, target)\n",
    "\n",
    "select_features_rfecv3 = rfecv3.get_support()\n",
    "RFEcv3 = df2train.loc[:,select_features_rfecv3]\n",
    "print('{:d} Features Select by RFEcv:\\n{:}'.format(rfecv3.n_features_, RFEcv3.columns))"
   ]
  },
  {
   "cell_type": "code",
   "execution_count": 71,
   "metadata": {},
   "outputs": [
    {
     "name": "stdout",
     "output_type": "stream",
     "text": [
      "211 Features Select by RFEcv:\n",
      "Index(['LotFrontage', 'LotArea', 'Alley', 'LotShape', 'OverallQual',\n",
      "       'OverallCond', 'YearBuilt', 'YearRemodAdd', 'MasVnrArea', 'ExterQual',\n",
      "       ...\n",
      "       'SaleType_ConLI', 'SaleType_ConLw', 'SaleType_New', 'SaleType_Oth',\n",
      "       'SaleType_WD', 'SaleCondition_AdjLand', 'SaleCondition_Alloca',\n",
      "       'SaleCondition_Family', 'SaleCondition_Normal',\n",
      "       'SaleCondition_Partial'],\n",
      "      dtype='object', length=211)\n"
     ]
    }
   ],
   "source": [
    "#finding the best x features using RFEcv with our Ridge \n",
    "ridge1 = Ridge()\n",
    "rfecv4 = RFECV(estimator=ridge1, n_jobs = -1, step=1, scoring = 'neg_mean_squared_error' ,cv=3)\n",
    "rfecv4.fit(df2train, target)\n",
    "\n",
    "select_features_rfecv4 = rfecv4.get_support()\n",
    "RFEcv4 = df2train.loc[:,select_features_rfecv4]\n",
    "print('{:d} Features Select by RFEcv:\\n{:}'.format(rfecv4.n_features_, RFEcv4.columns))"
   ]
  },
  {
   "cell_type": "code",
   "execution_count": 72,
   "metadata": {
    "scrolled": true
   },
   "outputs": [
    {
     "name": "stdout",
     "output_type": "stream",
     "text": [
      "46 Features Select by RFEcv:\n",
      "Index(['LotFrontage', 'LotArea', 'OverallQual', 'OverallCond', 'YearBuilt',\n",
      "       'YearRemodAdd', 'ExterQual', 'BsmtQual', 'BsmtExposure', 'BsmtFinType1',\n",
      "       'BsmtFinSF1', 'TotalBsmtSF', 'CentralAir', '1stFlrSF', '2ndFlrSF',\n",
      "       'GrLivArea', 'KitchenAbvGr', 'KitchenQual', 'TotRmsAbvGrd',\n",
      "       'Functional', 'Fireplaces', 'FireplaceQu', 'GarageYrBlt', 'GarageCars',\n",
      "       'GarageQual', 'WoodDeckSF', 'OpenPorchSF', 'ScreenPorch', 'TotalArea',\n",
      "       'Age', 'RecentRemodel', 'YearsSinceRemodel', 'Area1st2nd',\n",
      "       'MSSubClass_30', 'MSSubClass_60', 'MSZoning_RL', 'MSZoning_RM',\n",
      "       'Neighborhood_Crawfor', 'Neighborhood_OldTown', 'Neighborhood_StoneBr',\n",
      "       'Exterior1st_BrkFace', 'GarageType_Attchd', 'MoSold_2', 'SaleType_New',\n",
      "       'SaleCondition_Family', 'SaleCondition_Normal'],\n",
      "      dtype='object')\n"
     ]
    }
   ],
   "source": [
    "#finding the best x features using RFEcv for XGBoost with our tuned XGB Regressor\n",
    "xgb4 = XGBRegressor(learning_rate = 0.1, max_depth = 3, n_estimators = 180)\n",
    "rfecv1 = RFECV(estimator=xgb4, n_jobs = -1, step=1, scoring = 'neg_mean_squared_error' ,cv=3)\n",
    "rfecv1.fit(df2train, target)\n",
    "\n",
    "select_features_rfecv1 = rfecv1.get_support()\n",
    "RFEcv1 = df2train.loc[:,select_features_rfecv1]\n",
    "print('{:d} Features Select by RFEcv:\\n{:}'.format(rfecv1.n_features_, RFEcv1.columns))"
   ]
  },
  {
   "cell_type": "code",
   "execution_count": null,
   "metadata": {},
   "outputs": [],
   "source": [
    "#creating dataframe of our XGBoost feature importances \n",
    "sortedfeatureimportances = np.concatenate((rfecv1.estimator_.feature_importances_[:10].reshape(-1,1), np.array(RFEcv1.columns[:10]).reshape(-1,1)), axis = 1)\n",
    "sortedfeatureimportances1 = pd.DataFrame(sortedfeatureimportances, columns = ['Feature Importance','Name'])                           \n",
    "sortedfeatureimportances1 = sortedfeatureimportances1.sort_values(by = 'Feature Importance', ascending = True)                                                                                 \n",
    "                                        "
   ]
  },
  {
   "cell_type": "code",
   "execution_count": 270,
   "metadata": {},
   "outputs": [
    {
     "data": {
      "image/png": "[encoded data removed]",
      "text/plain": [
       "<Figure size 720x720 with 1 Axes>"
      ]
     },
     "metadata": {
      "needs_background": "light"
     },
     "output_type": "display_data"
    }
   ],
   "source": [
    "import matplotlib.pyplot as plt\n",
    "import matplotlib.cm as cm\n",
    "from matplotlib.colors import Normalize\n",
    "from numpy.random import rand\n",
    "\n",
    "data = [2,1]\n",
    "fig, ax = plt.subplots(1, 1, figsize=(10,10))\n",
    " \n",
    "# Get a color map\n",
    "my_cmap = cm.get_cmap('ocean')\n",
    " \n",
    "# Get normalize function (takes data in range [vmin, vmax] -> [0, 1])\n",
    "my_norm = Normalize(vmin=0, vmax=4)\n",
    " \n",
    "ax.barh(sortedfeatureimportances1['Name'], sortedfeatureimportances1['Feature Importance'], color=my_cmap(my_norm(data)))\n",
    "ax.set_xlabel(\"Cross Validation Score\", fontsize = 12)\n",
    "ax.set_ylabel(\"Feature\", fontsize = 12)\n",
    "ax.set_title(\"XGBoost Feature Importances\", fontsize = 14)\n",
    "plt.show()"
   ]
  },
  {
   "cell_type": "code",
   "execution_count": 206,
   "metadata": {
    "scrolled": true
   },
   "outputs": [
    {
     "name": "stderr",
     "output_type": "stream",
     "text": [
      "/Users/philippeheitzmann/opt/anaconda3/lib/python3.7/site-packages/sklearn/linear_model/_coordinate_descent.py:531: ConvergenceWarning: Objective did not converge. You might want to increase the number of iterations. Duality gap: 266954013404.83594, tolerance: 623306765.1434141\n",
      "  positive)\n",
      "/Users/philippeheitzmann/opt/anaconda3/lib/python3.7/site-packages/sklearn/linear_model/_coordinate_descent.py:531: ConvergenceWarning: Objective did not converge. You might want to increase the number of iterations. Duality gap: 245126139227.1376, tolerance: 590479145.3204185\n",
      "  positive)\n",
      "/Users/philippeheitzmann/opt/anaconda3/lib/python3.7/site-packages/sklearn/linear_model/_coordinate_descent.py:531: ConvergenceWarning: Objective did not converge. You might want to increase the number of iterations. Duality gap: 260694999483.8842, tolerance: 626679783.5877521\n",
      "  positive)\n"
     ]
    }
   ],
   "source": [
    "#looking at the RMSE for each feature selection\n",
    "#RFEcv = GradientBoosting\n",
    "#RFEcv1 = XGBoost\n",
    "#RFEcv2 = RandomForest\n",
    "#RFEcv3 = Lasso\n",
    "#RFEcv4 = Ridge\n",
    "resultsdict = {}\n",
    "#GradientBoosting\n",
    "score = np.mean(cross_val_score(grid_search_gbr.best_estimator_, df2train.loc[:,select_features_rfecv], target, cv=3, scoring = 'neg_mean_squared_error'))\n",
    "resultsdict['GBR'] = score \n",
    "\n",
    "#XGBoost\n",
    "score1 = np.mean(cross_val_score(grid_search_xgb.best_estimator_, df2train.loc[:,select_features_rfecv1], target, cv=3, scoring = 'neg_mean_squared_error'))\n",
    "resultsdict['XGB'] = score1\n",
    "\n",
    "#RandomForests\n",
    "score2 = np.mean(cross_val_score(grid_search_rf.best_estimator_, df2train.loc[:,select_features_rfecv2], target, cv=3, scoring = 'neg_mean_squared_error'))\n",
    "resultsdict['RF'] = score2\n",
    "\n",
    "#Lasso\n",
    "score3 = np.mean(cross_val_score(grid_search_lasso.best_estimator_, df2train.loc[:,select_features_rfecv3], target, cv=3, scoring = 'neg_mean_squared_error'))\n",
    "resultsdict['Lasso'] = score3\n",
    "\n",
    "#Ridge\n",
    "score4 = np.mean(cross_val_score(grid_search_ridge.best_estimator_, df2train.loc[:,select_features_rfecv4], target, cv=3, scoring = 'neg_mean_squared_error'))\n",
    "resultsdict['Ridge'] = score4\n"
   ]
  },
  {
   "cell_type": "code",
   "execution_count": 203,
   "metadata": {},
   "outputs": [
    {
     "data": {
      "image/png": "[encoded data removed]",
      "text/plain": [
       "<Figure size 432x288 with 1 Axes>"
      ]
     },
     "metadata": {
      "needs_background": "light"
     },
     "output_type": "display_data"
    }
   ],
   "source": [
    "#EDA of feature selection vs RMSE\n",
    "plt.figure()\n",
    "plt.title('CV score vs Number of Features', fontsize = 14)\n",
    "plt.xlabel(\"Number of features selected\", fontsize = 12)\n",
    "plt.ylabel(\"Cross validation score\", fontsize = 12)\n",
    "# plt.ylim(-1000000000,-100000000)\n",
    "plt.xlim()\n",
    "plt.plot(range(1, len(rfecv3.grid_scores_) + 1), rfecv.grid_scores_, color = 'orange', label = 'GradientBoosting')\n",
    "plt.plot(range(1, len(rfecv3.grid_scores_) + 1), rfecv1.grid_scores_, color = 'yellow', label = 'XGBoost')\n",
    "plt.plot(range(1, len(rfecv3.grid_scores_) + 1), rfecv2.grid_scores_, color = 'red', label = 'RandomForest')\n",
    "plt.plot(range(1, len(rfecv3.grid_scores_) + 1), rfecv3.grid_scores_, color = 'blue', label = 'Lasso')\n",
    "plt.plot(range(1, len(rfecv4.grid_scores_) + 1), rfecv4.grid_scores_, color = 'green', label = 'Ridge')\n",
    "plt.legend()\n",
    "plt.show()"
   ]
  },
  {
   "cell_type": "code",
   "execution_count": 107,
   "metadata": {},
   "outputs": [
    {
     "data": {
      "text/plain": [
       "{'learning_rate': 0.1625, 'max_depth': 3, 'min_samples_split': 5}"
      ]
     },
     "execution_count": 107,
     "metadata": {},
     "output_type": "execute_result"
    }
   ],
   "source": [
    "#GridSearchCV for Gradient Boosting\n",
    "param_grid_gbr = {'learning_rate':np.linspace(0.05,0.5,5), 'min_samples_split':range(3,6), 'max_depth': range(3,6)}\n",
    "grid_search_gbr = GridSearchCV(gbr99, param_grid_gbr, cv = 3, n_jobs = -1, scoring = 'neg_root_mean_squared_error')\n",
    "grid_search_gbr.fit(RFEcv, target)\n",
    "grid_search_gbr.best_params_"
   ]
  },
  {
   "cell_type": "code",
   "execution_count": 108,
   "metadata": {},
   "outputs": [
    {
     "data": {
      "text/plain": [
       "{'gamma': 0, 'learning_rate': 0.2, 'max_depth': 4}"
      ]
     },
     "execution_count": 108,
     "metadata": {},
     "output_type": "execute_result"
    }
   ],
   "source": [
    "#GridSearchCV for XGBoost\n",
    "param_grid_xgb = {'max_depth':range(3,5),'learning_rate':np.linspace(0.1,.5,5), 'gamma':range(0,3)}\n",
    "grid_search_xgb = GridSearchCV(xgb99, param_grid_xgb, cv = 3, n_jobs = -1, scoring = 'neg_root_mean_squared_error')\n",
    "grid_search_xgb.fit(RFEcv1, target)\n",
    "grid_search_xgb.best_params_"
   ]
  },
  {
   "cell_type": "code",
   "execution_count": 109,
   "metadata": {},
   "outputs": [
    {
     "data": {
      "text/plain": [
       "{'max_depth': 5, 'min_samples_split': 3, 'n_estimators': 200}"
      ]
     },
     "execution_count": 109,
     "metadata": {},
     "output_type": "execute_result"
    }
   ],
   "source": [
    "#GridSearchCV for RandomForest\n",
    "param_grid_rf = {'max_depth':range(3,6),'min_samples_split':range(2,6), 'n_estimators':range(100,300,100)}\n",
    "grid_search_rf = GridSearchCV(rf99, param_grid_rf, cv = 3, n_jobs = -1, scoring = 'neg_root_mean_squared_error')\n",
    "grid_search_rf.fit(RFEcv2, target)\n",
    "grid_search_rf.best_params_"
   ]
  },
  {
   "cell_type": "code",
   "execution_count": 80,
   "metadata": {},
   "outputs": [
    {
     "name": "stderr",
     "output_type": "stream",
     "text": [
      "/Users/philippeheitzmann/opt/anaconda3/lib/python3.7/site-packages/sklearn/linear_model/_coordinate_descent.py:531: ConvergenceWarning: Objective did not converge. You might want to increase the number of iterations. Duality gap: 412490635734.1092, tolerance: 920372703.0182943\n",
      "  positive)\n"
     ]
    },
    {
     "data": {
      "text/plain": [
       "{'alpha': 50.0}"
      ]
     },
     "execution_count": 80,
     "metadata": {},
     "output_type": "execute_result"
    }
   ],
   "source": [
    "#GridSearchCV for Lasso\n",
    "param_grid_lasso = {'alpha':np.linspace(0.5,100,10)}\n",
    "grid_search_lasso = GridSearchCV(lasso1, param_grid_ridge, cv = 3, n_jobs = -1, scoring = 'neg_root_mean_squared_error')\n",
    "grid_search_lasso.fit(RFEcv3, target)\n",
    "grid_search_lasso.best_params_"
   ]
  },
  {
   "cell_type": "code",
   "execution_count": 77,
   "metadata": {},
   "outputs": [
    {
     "data": {
      "text/plain": [
       "{'alpha': 22.5}"
      ]
     },
     "execution_count": 77,
     "metadata": {},
     "output_type": "execute_result"
    }
   ],
   "source": [
    "#GridSearchCV for Ridge\n",
    "param_grid_ridge = {'alpha':np.linspace(0.5,50,10)}\n",
    "grid_search_ridge = GridSearchCV(ridge1, param_grid_ridge, cv = 3, n_jobs = -1, scoring = 'neg_root_mean_squared_error')\n",
    "grid_search_ridge.fit(RFEcv4, target)\n",
    "grid_search_ridge.best_params_"
   ]
  },
  {
   "cell_type": "code",
   "execution_count": 110,
   "metadata": {},
   "outputs": [
    {
     "name": "stderr",
     "output_type": "stream",
     "text": [
      "/Users/philippeheitzmann/opt/anaconda3/lib/python3.7/site-packages/sklearn/linear_model/_coordinate_descent.py:531: ConvergenceWarning: Objective did not converge. You might want to increase the number of iterations. Duality gap: 412490635734.1092, tolerance: 920372703.0182943\n",
      "  positive)\n"
     ]
    },
    {
     "name": "stdout",
     "output_type": "stream",
     "text": [
      "0.99353246005912 0.9869964339449641\n",
      "0.9898577077643027 0.9888462381755074\n",
      "0.9898573832611864 0.9888369372088219\n"
     ]
    },
    {
     "name": "stderr",
     "output_type": "stream",
     "text": [
      "/Users/philippeheitzmann/opt/anaconda3/lib/python3.7/site-packages/sklearn/linear_model/_coordinate_descent.py:531: ConvergenceWarning: Objective did not converge. You might want to increase the number of iterations. Duality gap: 32721705947.599144, tolerance: 645241088.232479\n",
      "  positive)\n"
     ]
    }
   ],
   "source": [
    "#stacking with RFEcv for best feature selection AND hyperparameter \n",
    "#RFECv = GradientBoosting\n",
    "#RFECv1 = XGBoost\n",
    "#RFEcv2 = RandomForest\n",
    "#RFECv3 = Lasso\n",
    "#RFECv4 = Ridge\n",
    "\n",
    "#Gradient Boosting\n",
    "grid_search_gbr.best_estimator_.fit(df2train.loc[:,select_features_rfecv], target)\n",
    "gbr_predictions101 = grid_search_gbr.best_estimator_.predict(df2train.loc[:,select_features_rfecv])\n",
    "gbr_predictions102 = grid_search_gbr.best_estimator_.predict(df2test.loc[:,select_features_rfecv])\n",
    "\n",
    "#XGBoost\n",
    "grid_search_xgb.best_estimator_.fit(df2train.loc[:,select_features_rfecv1], target)\n",
    "xgb_predictions101 = grid_search_xgb.best_estimator_.predict(df2train.loc[:,select_features_rfecv1])\n",
    "xgb_predictions102 = grid_search_xgb.best_estimator_.predict(df2test.loc[:,select_features_rfecv1])\n",
    "\n",
    "#RandomForests\n",
    "grid_search_rf.best_estimator_.fit(df2train.loc[:,select_features_rfecv2], target)\n",
    "rf_predictions101 = grid_search_rf.best_estimator_.predict(df2train.loc[:,select_features_rfecv2])\n",
    "rf_predictions102 = grid_search_rf.best_estimator_.predict(df2test.loc[:,select_features_rfecv2])\n",
    "\n",
    "#Lasso\n",
    "grid_search_lasso.best_estimator_.fit(df2train.loc[:,select_features_rfecv3], target)\n",
    "lasso_predictions101 = grid_search_lasso.best_estimator_.predict(df2train.loc[:,select_features_rfecv3])\n",
    "lasso_predictions102 = grid_search_lasso.best_estimator_.predict(df2test.loc[:,select_features_rfecv3])\n",
    "\n",
    "#Ridge\n",
    "grid_search_ridge.best_estimator_.fit(df2train.loc[:,select_features_rfecv4], target)\n",
    "ridge_predictions101 = grid_search_ridge.best_estimator_.predict(df2train.loc[:,select_features_rfecv4])\n",
    "ridge_predictions102 = grid_search_ridge.best_estimator_.predict(df2test.loc[:,select_features_rfecv4])\n",
    "\n",
    "combined_predictions101 = np.concatenate((gbr_predictions101.reshape(-1,1), xgb_predictions101.reshape(-1,1), rf_predictions101.reshape(-1,1), lasso_predictions101.reshape(-1,1), ridge_predictions101.reshape(-1,1)), axis = 1)\n",
    "combined_predictions101 = pd.DataFrame(combined_predictions101, columns = ['GBR','XGB','RF','Lasso','Ridge'])\n",
    "\n",
    "combined_predictions102 = np.concatenate((gbr_predictions102.reshape(-1,1), xgb_predictions102.reshape(-1,1), rf_predictions102.reshape(-1,1), lasso_predictions102.reshape(-1,1), ridge_predictions102.reshape(-1,1)), axis = 1)\n",
    "combined_predictions102 = pd.DataFrame(combined_predictions102, columns = ['GBR','XGB','RF','Lasso','Ridge'])\n",
    "\n",
    "x_train101, x_test101, y_train101, y_test101 = train_test_split(combined_predictions101, target, test_size = 0.3)\n",
    "\n",
    "gbr101 = GradientBoostingRegressor()\n",
    "gbr101.fit(x_train101, y_train101)\n",
    "print(gbr101.score(x_train101, y_train101), gbr101.score(x_test101, y_test101))\n",
    "\n",
    "lm101 = LinearRegression()\n",
    "lm101.fit(x_train101, y_train101)\n",
    "print(lm101.score(x_train101, y_train101), lm101.score(x_test101, y_test101))\n",
    "\n",
    "lasso101 = Lasso()\n",
    "lasso101.fit(x_train101, y_train101)\n",
    "print(lasso101.score(x_train101, y_train101), lasso101.score(x_test101, y_test101))\n"
   ]
  },
  {
   "cell_type": "code",
   "execution_count": 209,
   "metadata": {},
   "outputs": [
    {
     "data": {
      "image/png": "[encoded data removed]",
      "text/plain": [
       "<Figure size 1080x432 with 2 Axes>"
      ]
     },
     "metadata": {
      "needs_background": "light"
     },
     "output_type": "display_data"
    }
   ],
   "source": [
    "import matplotlib as matplotlib\n",
    "#Creating EDA for each of these tuned model predictions \n",
    "\n",
    "fig, (ax1, ax2) = plt.subplots(1, 2, figsize=(15, 6))\n",
    "\n",
    "ax1.scatter(gbr_predictions101, target, s = 5, c = 'blue')\n",
    "ax1.plot(target, target, c = 'red')\n",
    "ax1.set_xlabel('Price Predictions (USD)', fontsize = 12)\n",
    "ax1.set_ylabel('Actual Predictions (USD)', fontsize = 12)\n",
    "ax1.set_title('Tuned Gradient Boosting Regressor Predictions', fontsize = 14)\n",
    "ax1.get_yaxis().set_major_formatter(matplotlib.ticker.FuncFormatter(lambda x, p: format(int(x), ',')))\n",
    "ax1.get_xaxis().set_major_formatter(matplotlib.ticker.FuncFormatter(lambda x, p: format(int(x), ',')))\n",
    "\n",
    "ax2.scatter(rf_predictions101, target, s = 5, c = 'blue')\n",
    "ax2.plot(target, target, c = 'green')\n",
    "ax2.set_xlabel('Price Predictions (USD)', fontsize = 12)\n",
    "ax2.set_ylabel('Actual Predictions (USD)', fontsize = 12)\n",
    "ax2.set_title('Tuned Random Forest Regressor Predictions', fontsize = 14)\n",
    "ax2.get_yaxis().set_major_formatter(matplotlib.ticker.FuncFormatter(lambda x, p: format(int(x), ',')))\n",
    "ax2.get_xaxis().set_major_formatter(matplotlib.ticker.FuncFormatter(lambda x, p: format(int(x), ',')))\n"
   ]
  },
  {
   "cell_type": "code",
   "execution_count": 210,
   "metadata": {},
   "outputs": [
    {
     "data": {
      "image/png": "[encoded data removed]",
      "text/plain": [
       "<Figure size 1080x432 with 2 Axes>"
      ]
     },
     "metadata": {
      "needs_background": "light"
     },
     "output_type": "display_data"
    }
   ],
   "source": [
    "import matplotlib as matplotlib\n",
    "#Creating EDA for each of these tuned model predictions \n",
    "\n",
    "fig, (ax1, ax2) = plt.subplots(1, 2, figsize=(15, 6))\n",
    "\n",
    "ax1.scatter(xgb_predictions101, target, s = 5, c = 'blue')\n",
    "ax1.plot(target, target, c = 'yellow')\n",
    "ax1.set_xlabel('Price Predictions (USD)', fontsize = 12)\n",
    "ax1.set_ylabel('Actual Predictions (USD)', fontsize = 12)\n",
    "ax1.set_title('Tuned XGBoost Regressor Predictions', fontsize = 14)\n",
    "ax1.get_yaxis().set_major_formatter(matplotlib.ticker.FuncFormatter(lambda x, p: format(int(x), ',')))\n",
    "ax1.get_xaxis().set_major_formatter(matplotlib.ticker.FuncFormatter(lambda x, p: format(int(x), ',')))\n",
    "\n",
    "ax2.scatter(lasso_predictions101, target, s = 5, c = 'blue')\n",
    "ax2.plot(target, target, c = 'orange')\n",
    "ax2.set_xlabel('Price Predictions (USD)', fontsize = 12)\n",
    "ax2.set_ylabel('Actual Predictions (USD)', fontsize = 12)\n",
    "ax2.set_title('Tuned Lasso Predictions', fontsize = 14)\n",
    "ax2.get_yaxis().set_major_formatter(matplotlib.ticker.FuncFormatter(lambda x, p: format(int(x), ',')))\n",
    "ax2.get_xaxis().set_major_formatter(matplotlib.ticker.FuncFormatter(lambda x, p: format(int(x), ',')))"
   ]
  },
  {
   "cell_type": "code",
   "execution_count": 211,
   "metadata": {},
   "outputs": [
    {
     "data": {
      "image/png": "[encoded data removed]",
      "text/plain": [
       "<Figure size 1080x432 with 2 Axes>"
      ]
     },
     "metadata": {
      "needs_background": "light"
     },
     "output_type": "display_data"
    }
   ],
   "source": [
    "import matplotlib as matplotlib\n",
    "#Creating EDA for each of these tuned model predictions \n",
    "\n",
    "fig, (ax1, ax2) = plt.subplots(1, 2, figsize=(15, 6))\n",
    "\n",
    "ax1.scatter(ridge_predictions101, target, s = 5, c = 'blue')\n",
    "ax1.plot(target, target, c = 'purple')\n",
    "ax1.set_xlabel('Price Predictions (USD)', fontsize = 12)\n",
    "ax1.set_ylabel('Actual Predictions (USD)', fontsize = 12)\n",
    "ax1.set_title('Tuned Ridge Predictions', fontsize = 14)\n",
    "ax1.get_yaxis().set_major_formatter(matplotlib.ticker.FuncFormatter(lambda x, p: format(int(x), ',')))\n",
    "ax1.get_xaxis().set_major_formatter(matplotlib.ticker.FuncFormatter(lambda x, p: format(int(x), ',')))\n",
    "\n",
    "ax2.scatter(rf_predictions101, target, s = 5, c = 'blue')\n",
    "ax2.plot(target, target, c = 'red')\n",
    "ax2.set_facecolor('xkcd:pale blue')\n",
    "ax2.set_xlabel('Price Predictions (USD)', fontsize = 12)\n",
    "ax2.set_ylabel('Actual Predictions (USD)', fontsize = 12)\n",
    "ax2.set_title('Tuned Random Forest Regressor Predictions', fontsize = 14)\n",
    "ax2.get_yaxis().set_major_formatter(matplotlib.ticker.FuncFormatter(lambda x, p: format(int(x), ',')))\n",
    "ax2.get_xaxis().set_major_formatter(matplotlib.ticker.FuncFormatter(lambda x, p: format(int(x), ',')))"
   ]
  },
  {
   "cell_type": "code",
   "execution_count": 102,
   "metadata": {},
   "outputs": [],
   "source": [
    "#using Gradient Boosting to predict SalePrice using all model predictions\n",
    "testpredictionsdfgbr = pd.DataFrame(gbr101.predict(combined_predictions102), index = range(1461, 2920), columns = ['SalePrice'])\n",
    "testpredictionsdfgbr.index.name = 'Id'\n",
    "testpredictionsdfgbr.to_csv('Kaggle Submission Stacked GBR101.csv')"
   ]
  },
  {
   "cell_type": "code",
   "execution_count": 42,
   "metadata": {},
   "outputs": [
    {
     "name": "stdout",
     "output_type": "stream",
     "text": [
      "GBR scores are: 0.9765599823796731 0.8902775651531895\n",
      "XGBoost Scores are: 0.9999189262278557 0.868013827427308\n",
      "Random Forest scores are: 0.9842575204692082 0.8664778456633779\n",
      "Lasso scores are: 0.9336026064355643 0.8771992742464486\n",
      "Ridge Forest scores are: 0.9323029162092257 0.8822127408687488\n"
     ]
    },
    {
     "name": "stderr",
     "output_type": "stream",
     "text": [
      "/Users/philippeheitzmann/opt/anaconda3/lib/python3.7/site-packages/sklearn/linear_model/_coordinate_descent.py:531: ConvergenceWarning: Objective did not converge. You might want to increase the number of iterations. Duality gap: 201568917062.23788, tolerance: 600844672.3739702\n",
      "  positive)\n"
     ]
    }
   ],
   "source": [
    "#stacking with no RFEcv taking place and no hyperparameter tuning taking place\n",
    "\n",
    "x_train99, x_test99, y_train99, y_test99 = train_test_split(df2train, target, test_size = 0.33)\n",
    "#GradientBoosting\n",
    "gbr99 = GradientBoostingRegressor()\n",
    "gbr99.fit(x_train99, y_train99)\n",
    "print('GBR scores are:', gbr99.score(x_train99, y_train99), gbr99.score(x_test99, y_test99))\n",
    "gbr_predictions99 = gbr99.predict(df2train)\n",
    "gbr_predictions100 = gbr99.predict(df2test)\n",
    "#XGBoost\n",
    "xgb99 = XGBRegressor()\n",
    "xgb99.fit(x_train99, y_train99)\n",
    "print('XGBoost Scores are:', xgb99.score(x_train99, y_train99), xgb99.score(x_test99, y_test99))\n",
    "xgb_predictions99 = xgb99.predict(df2train)\n",
    "xgb_predictions100 = xgb99.predict(df2test)\n",
    "#RandomForest\n",
    "rf99 = RandomForestRegressor()\n",
    "rf99.fit(x_train99, y_train99)\n",
    "print('Random Forest scores are:', rf99.score(x_train99, y_train99), rf99.score(x_test99, y_test99))\n",
    "rf_predictions99 = rf99.predict(df2train)\n",
    "rf_predictions100 = rf99.predict(df2test)\n",
    "#Lasso\n",
    "lasso99 = Lasso()\n",
    "lasso99.fit(x_train99, y_train99)\n",
    "print('Lasso scores are:', lasso99.score(x_train99, y_train99), lasso99.score(x_test99, y_test99))\n",
    "lasso_predictions99 = lasso99.predict(df2train)\n",
    "lasso_predictions100 = lasso99.predict(df2test)\n",
    "#Ridge\n",
    "ridge99 = Ridge()\n",
    "ridge99.fit(x_train99, y_train99)\n",
    "print('Ridge Forest scores are:', ridge99.score(x_train99, y_train99), ridge99.score(x_test99, y_test99))\n",
    "ridge_predictions99 = ridge99.predict(df2train)\n",
    "ridge_predictions100 = ridge99.predict(df2test)\n",
    "\n"
   ]
  },
  {
   "cell_type": "code",
   "execution_count": 43,
   "metadata": {},
   "outputs": [],
   "source": [
    "#combining the predictions from no tuning and no feature selection\n",
    "combined_predictions = np.concatenate((gbr_predictions99.reshape(-1,1), xgb_predictions99.reshape(-1,1), rf_predictions99.reshape(-1,1), lasso_predictions99.reshape(-1,1), ridge_predictions99.reshape(-1,1)), axis = 1)\n",
    "combined_predictions \n",
    "combined_predictions2 = np.concatenate((gbr_predictions100.reshape(-1,1), xgb_predictions100.reshape(-1,1), rf_predictions100.reshape(-1,1), lasso_predictions100.reshape(-1,1), ridge_predictions100.reshape(-1,1)), axis = 1)\n"
   ]
  },
  {
   "cell_type": "code",
   "execution_count": 46,
   "metadata": {},
   "outputs": [
    {
     "data": {
      "text/html": [
       "<div>\n",
       "<style scoped>\n",
       "    .dataframe tbody tr th:only-of-type {\n",
       "        vertical-align: middle;\n",
       "    }\n",
       "\n",
       "    .dataframe tbody tr th {\n",
       "        vertical-align: top;\n",
       "    }\n",
       "\n",
       "    .dataframe thead th {\n",
       "        text-align: right;\n",
       "    }\n",
       "</style>\n",
       "<table border=\"1\" class=\"dataframe\">\n",
       "  <thead>\n",
       "    <tr style=\"text-align: right;\">\n",
       "      <th></th>\n",
       "      <th>GBR</th>\n",
       "      <th>XGB</th>\n",
       "      <th>RF</th>\n",
       "      <th>Lasso</th>\n",
       "      <th>Ridge</th>\n",
       "    </tr>\n",
       "  </thead>\n",
       "  <tbody>\n",
       "    <tr>\n",
       "      <th>0</th>\n",
       "      <td>203527.219445</td>\n",
       "      <td>212509.906250</td>\n",
       "      <td>202173.00</td>\n",
       "      <td>196479.643528</td>\n",
       "      <td>197156.013141</td>\n",
       "    </tr>\n",
       "    <tr>\n",
       "      <th>1</th>\n",
       "      <td>169808.121817</td>\n",
       "      <td>181071.796875</td>\n",
       "      <td>177150.90</td>\n",
       "      <td>217757.227157</td>\n",
       "      <td>216652.724862</td>\n",
       "    </tr>\n",
       "    <tr>\n",
       "      <th>2</th>\n",
       "      <td>218930.275884</td>\n",
       "      <td>224203.421875</td>\n",
       "      <td>220611.01</td>\n",
       "      <td>210194.625001</td>\n",
       "      <td>209314.320961</td>\n",
       "    </tr>\n",
       "    <tr>\n",
       "      <th>3</th>\n",
       "      <td>157560.386353</td>\n",
       "      <td>139837.843750</td>\n",
       "      <td>150728.00</td>\n",
       "      <td>163128.059753</td>\n",
       "      <td>164898.153457</td>\n",
       "    </tr>\n",
       "    <tr>\n",
       "      <th>4</th>\n",
       "      <td>288404.427174</td>\n",
       "      <td>250298.531250</td>\n",
       "      <td>261970.90</td>\n",
       "      <td>284880.773250</td>\n",
       "      <td>284129.575795</td>\n",
       "    </tr>\n",
       "    <tr>\n",
       "      <th>...</th>\n",
       "      <td>...</td>\n",
       "      <td>...</td>\n",
       "      <td>...</td>\n",
       "      <td>...</td>\n",
       "      <td>...</td>\n",
       "    </tr>\n",
       "    <tr>\n",
       "      <th>1452</th>\n",
       "      <td>165328.149454</td>\n",
       "      <td>168962.750000</td>\n",
       "      <td>173893.32</td>\n",
       "      <td>161440.766352</td>\n",
       "      <td>160256.832331</td>\n",
       "    </tr>\n",
       "    <tr>\n",
       "      <th>1453</th>\n",
       "      <td>196079.227480</td>\n",
       "      <td>209667.312500</td>\n",
       "      <td>209751.86</td>\n",
       "      <td>216448.932299</td>\n",
       "      <td>215329.927393</td>\n",
       "    </tr>\n",
       "    <tr>\n",
       "      <th>1454</th>\n",
       "      <td>240873.845868</td>\n",
       "      <td>241259.593750</td>\n",
       "      <td>214788.09</td>\n",
       "      <td>260324.505943</td>\n",
       "      <td>263882.632048</td>\n",
       "    </tr>\n",
       "    <tr>\n",
       "      <th>1455</th>\n",
       "      <td>136833.758821</td>\n",
       "      <td>141811.406250</td>\n",
       "      <td>139448.80</td>\n",
       "      <td>156270.234984</td>\n",
       "      <td>155005.322152</td>\n",
       "    </tr>\n",
       "    <tr>\n",
       "      <th>1456</th>\n",
       "      <td>142913.205700</td>\n",
       "      <td>141333.859375</td>\n",
       "      <td>144842.33</td>\n",
       "      <td>171216.399616</td>\n",
       "      <td>173507.291326</td>\n",
       "    </tr>\n",
       "  </tbody>\n",
       "</table>\n",
       "<p>1457 rows × 5 columns</p>\n",
       "</div>"
      ],
      "text/plain": [
       "                GBR            XGB         RF          Lasso          Ridge\n",
       "0     203527.219445  212509.906250  202173.00  196479.643528  197156.013141\n",
       "1     169808.121817  181071.796875  177150.90  217757.227157  216652.724862\n",
       "2     218930.275884  224203.421875  220611.01  210194.625001  209314.320961\n",
       "3     157560.386353  139837.843750  150728.00  163128.059753  164898.153457\n",
       "4     288404.427174  250298.531250  261970.90  284880.773250  284129.575795\n",
       "...             ...            ...        ...            ...            ...\n",
       "1452  165328.149454  168962.750000  173893.32  161440.766352  160256.832331\n",
       "1453  196079.227480  209667.312500  209751.86  216448.932299  215329.927393\n",
       "1454  240873.845868  241259.593750  214788.09  260324.505943  263882.632048\n",
       "1455  136833.758821  141811.406250  139448.80  156270.234984  155005.322152\n",
       "1456  142913.205700  141333.859375  144842.33  171216.399616  173507.291326\n",
       "\n",
       "[1457 rows x 5 columns]"
      ]
     },
     "execution_count": 46,
     "metadata": {},
     "output_type": "execute_result"
    }
   ],
   "source": [
    "#converting combined predictions to DataFrame\n",
    "combined_predictions = pd.DataFrame(combined_predictions, columns = ['GBR','XGB','RF','Lasso','Ridge'])\n",
    "combined_predictions"
   ]
  },
  {
   "cell_type": "code",
   "execution_count": 47,
   "metadata": {},
   "outputs": [
    {
     "data": {
      "text/html": [
       "<div>\n",
       "<style scoped>\n",
       "    .dataframe tbody tr th:only-of-type {\n",
       "        vertical-align: middle;\n",
       "    }\n",
       "\n",
       "    .dataframe tbody tr th {\n",
       "        vertical-align: top;\n",
       "    }\n",
       "\n",
       "    .dataframe thead th {\n",
       "        text-align: right;\n",
       "    }\n",
       "</style>\n",
       "<table border=\"1\" class=\"dataframe\">\n",
       "  <thead>\n",
       "    <tr style=\"text-align: right;\">\n",
       "      <th></th>\n",
       "      <th>GBR</th>\n",
       "      <th>XGB</th>\n",
       "      <th>RF</th>\n",
       "      <th>Lasso</th>\n",
       "      <th>Ridge</th>\n",
       "    </tr>\n",
       "  </thead>\n",
       "  <tbody>\n",
       "    <tr>\n",
       "      <th>0</th>\n",
       "      <td>128801.794208</td>\n",
       "      <td>118498.046875</td>\n",
       "      <td>131966.08</td>\n",
       "      <td>96632.756790</td>\n",
       "      <td>94603.647052</td>\n",
       "    </tr>\n",
       "    <tr>\n",
       "      <th>1</th>\n",
       "      <td>173153.235746</td>\n",
       "      <td>149380.468750</td>\n",
       "      <td>159196.80</td>\n",
       "      <td>174517.435264</td>\n",
       "      <td>175413.867372</td>\n",
       "    </tr>\n",
       "    <tr>\n",
       "      <th>2</th>\n",
       "      <td>180208.427704</td>\n",
       "      <td>186187.125000</td>\n",
       "      <td>181169.77</td>\n",
       "      <td>172425.147653</td>\n",
       "      <td>171672.948830</td>\n",
       "    </tr>\n",
       "    <tr>\n",
       "      <th>3</th>\n",
       "      <td>191817.121000</td>\n",
       "      <td>201803.593750</td>\n",
       "      <td>184413.75</td>\n",
       "      <td>184409.932963</td>\n",
       "      <td>184667.736962</td>\n",
       "    </tr>\n",
       "    <tr>\n",
       "      <th>4</th>\n",
       "      <td>203372.683845</td>\n",
       "      <td>212528.765625</td>\n",
       "      <td>203843.50</td>\n",
       "      <td>207610.576541</td>\n",
       "      <td>205831.428651</td>\n",
       "    </tr>\n",
       "    <tr>\n",
       "      <th>...</th>\n",
       "      <td>...</td>\n",
       "      <td>...</td>\n",
       "      <td>...</td>\n",
       "      <td>...</td>\n",
       "      <td>...</td>\n",
       "    </tr>\n",
       "    <tr>\n",
       "      <th>1454</th>\n",
       "      <td>82468.486394</td>\n",
       "      <td>86776.382812</td>\n",
       "      <td>86783.07</td>\n",
       "      <td>68716.648745</td>\n",
       "      <td>69429.191196</td>\n",
       "    </tr>\n",
       "    <tr>\n",
       "      <th>1455</th>\n",
       "      <td>83662.834177</td>\n",
       "      <td>71686.257812</td>\n",
       "      <td>85582.93</td>\n",
       "      <td>63966.397361</td>\n",
       "      <td>59975.187514</td>\n",
       "    </tr>\n",
       "    <tr>\n",
       "      <th>1456</th>\n",
       "      <td>166575.154364</td>\n",
       "      <td>162818.703125</td>\n",
       "      <td>162833.50</td>\n",
       "      <td>180817.216908</td>\n",
       "      <td>181510.569202</td>\n",
       "    </tr>\n",
       "    <tr>\n",
       "      <th>1457</th>\n",
       "      <td>134720.104869</td>\n",
       "      <td>140641.546875</td>\n",
       "      <td>126010.84</td>\n",
       "      <td>119328.609317</td>\n",
       "      <td>121061.094101</td>\n",
       "    </tr>\n",
       "    <tr>\n",
       "      <th>1458</th>\n",
       "      <td>207719.146493</td>\n",
       "      <td>227626.000000</td>\n",
       "      <td>224190.07</td>\n",
       "      <td>244320.984360</td>\n",
       "      <td>243908.598086</td>\n",
       "    </tr>\n",
       "  </tbody>\n",
       "</table>\n",
       "<p>1459 rows × 5 columns</p>\n",
       "</div>"
      ],
      "text/plain": [
       "                GBR            XGB         RF          Lasso          Ridge\n",
       "0     128801.794208  118498.046875  131966.08   96632.756790   94603.647052\n",
       "1     173153.235746  149380.468750  159196.80  174517.435264  175413.867372\n",
       "2     180208.427704  186187.125000  181169.77  172425.147653  171672.948830\n",
       "3     191817.121000  201803.593750  184413.75  184409.932963  184667.736962\n",
       "4     203372.683845  212528.765625  203843.50  207610.576541  205831.428651\n",
       "...             ...            ...        ...            ...            ...\n",
       "1454   82468.486394   86776.382812   86783.07   68716.648745   69429.191196\n",
       "1455   83662.834177   71686.257812   85582.93   63966.397361   59975.187514\n",
       "1456  166575.154364  162818.703125  162833.50  180817.216908  181510.569202\n",
       "1457  134720.104869  140641.546875  126010.84  119328.609317  121061.094101\n",
       "1458  207719.146493  227626.000000  224190.07  244320.984360  243908.598086\n",
       "\n",
       "[1459 rows x 5 columns]"
      ]
     },
     "execution_count": 47,
     "metadata": {},
     "output_type": "execute_result"
    }
   ],
   "source": [
    "#converting combined predictions to DataFrame\n",
    "combined_predictions2 = pd.DataFrame(combined_predictions2, columns = ['GBR','XGB','RF','Lasso','Ridge'])\n",
    "combined_predictions2"
   ]
  },
  {
   "cell_type": "code",
   "execution_count": 48,
   "metadata": {},
   "outputs": [
    {
     "data": {
      "text/plain": [
       "(0.9994749841950468, 0.9545136645146957)"
      ]
     },
     "execution_count": 48,
     "metadata": {},
     "output_type": "execute_result"
    }
   ],
   "source": [
    "#training a XGBoost algorithm on the combined predictions DataFrame\n",
    "x_train1, x_test1, y_train1, y_test1 = train_test_split(combined_predictions, target, test_size = 0.3)\n",
    "xgb5 = XGBRegressor()\n",
    "xgb5.fit(x_train1, y_train1)\n",
    "xgb5.score(x_train1, y_train1), xgb5.score(x_test1, y_test1)"
   ]
  },
  {
   "cell_type": "code",
   "execution_count": 52,
   "metadata": {},
   "outputs": [
    {
     "data": {
      "text/plain": [
       "(0.9575580094740684, 0.9545136645146957)"
      ]
     },
     "execution_count": 52,
     "metadata": {},
     "output_type": "execute_result"
    }
   ],
   "source": [
    "#training a Linear Regression algorithm on the combined predictions DataFrame\n",
    "lm5 = LinearRegression()\n",
    "lm5.fit(x_train1, y_train1)\n",
    "lm5.score(x_train1, y_train1), xgb5.score(x_test1, y_test1)"
   ]
  },
  {
   "cell_type": "code",
   "execution_count": 50,
   "metadata": {},
   "outputs": [],
   "source": [
    "#outputting our XGBoost predictions to a .csv file\n",
    "testpredictionsdf = pd.DataFrame(xgb5.predict(combined_predictions2), index = range(1461, 2920), columns = ['SalePrice'])\n",
    "testpredictionsdf.index.name = 'Id'\n",
    "testpredictionsdf.to_csv('Kaggle Submission Stacked XGBoost100.csv')"
   ]
  },
  {
   "cell_type": "code",
   "execution_count": 53,
   "metadata": {},
   "outputs": [],
   "source": [
    "#outputting our Linear Regression predictions to a .csv file\n",
    "testpredictionsdf = pd.DataFrame(lm5.predict(combined_predictions2), index = range(1461, 2920), columns = ['SalePrice'])\n",
    "testpredictionsdf.index.name = 'Id'\n",
    "testpredictionsdf.to_csv('Kaggle Submission Stacked LinearRegressor100.csv')"
   ]
  },
  {
   "cell_type": "code",
   "execution_count": 54,
   "metadata": {},
   "outputs": [
    {
     "name": "stderr",
     "output_type": "stream",
     "text": [
      "/Users/philippeheitzmann/opt/anaconda3/lib/python3.7/site-packages/sklearn/linear_model/_coordinate_descent.py:531: ConvergenceWarning: Objective did not converge. You might want to increase the number of iterations. Duality gap: 142237340297.1758, tolerance: 670174183.9144506\n",
      "  positive)\n"
     ]
    },
    {
     "data": {
      "text/plain": [
       "(0.9575519998926384, 0.9663137425605548)"
      ]
     },
     "execution_count": 54,
     "metadata": {},
     "output_type": "execute_result"
    }
   ],
   "source": [
    "#training a Lasso algorithm on the combined predictions DataFrame\n",
    "lasso5 = Lasso()\n",
    "lasso5.fit(x_train1, y_train1)\n",
    "lasso5.score(x_train1, y_train1), lasso5.score(x_test1, y_test1)"
   ]
  },
  {
   "cell_type": "code",
   "execution_count": 56,
   "metadata": {},
   "outputs": [],
   "source": [
    "#outputting our Lasso predictions to a .csv file\n",
    "testpredictionsdf = pd.DataFrame(lasso5.predict(combined_predictions2), index = range(1461, 2920), columns = ['SalePrice'])\n",
    "testpredictionsdf.index.name = 'Id'\n",
    "testpredictionsdf.to_csv('Kaggle Submission Stacked Lasso100.csv')"
   ]
  },
  {
   "cell_type": "code",
   "execution_count": 57,
   "metadata": {},
   "outputs": [
    {
     "data": {
      "text/plain": [
       "(0.9878411748505658, 0.9670952614278302)"
      ]
     },
     "execution_count": 57,
     "metadata": {},
     "output_type": "execute_result"
    }
   ],
   "source": [
    "#training a GBR algorithm on the combined predictions DataFrame\n",
    "gbr5 = GradientBoostingRegressor()\n",
    "gbr5.fit(x_train1, y_train1)\n",
    "gbr5.score(x_train1, y_train1), gbr5.score(x_test1, y_test1)"
   ]
  },
  {
   "cell_type": "code",
   "execution_count": 58,
   "metadata": {},
   "outputs": [],
   "source": [
    "#outputting our GBR predictions to a .csv file\n",
    "testpredictionsdf = pd.DataFrame(gbr5.predict(combined_predictions2), index = range(1461, 2920), columns = ['SalePrice'])\n",
    "testpredictionsdf.index.name = 'Id'\n",
    "testpredictionsdf.to_csv('Kaggle Submission Stacked GBR100.csv')"
   ]
  },
  {
   "cell_type": "code",
   "execution_count": 113,
   "metadata": {},
   "outputs": [],
   "source": [
    "#taking the mean of all predictions and outputting to a csv file\n",
    "testpredictionsdfmean102 = pd.DataFrame(np.mean(combined_predictions102, axis = 1).values, index = range(1461, 2920), columns = ['SalePrice'])\n",
    "testpredictionsdfmean102.index.name = 'Id'\n",
    "testpredictionsdfmean102.to_csv('Kaggle Submission Mean Stacked Hypertuned2.csv')"
   ]
  },
  {
   "cell_type": "code",
   "execution_count": 68,
   "metadata": {},
   "outputs": [],
   "source": [
    "testpredictionsdfmean = pd.DataFrame(np.mean(combined_predictions2, axis = 1).values, index = range(1461, 2920), columns = ['SalePrice'])\n",
    "testpredictionsdfmean.index.name = 'Id'\n",
    "testpredictionsdfmean.to_csv('Kaggle Submission Mean Stacked.csv')"
   ]
  }
 ],
 "metadata": {
  "kernelspec": {
   "display_name": "Python 3",
   "language": "python",
   "name": "python3"
  },
  "language_info": {
   "codemirror_mode": {
    "name": "ipython",
    "version": 3
   },
   "file_extension": ".py",
   "mimetype": "text/x-python",
   "name": "python",
   "nbconvert_exporter": "python",
   "pygments_lexer": "ipython3",
   "version": "3.7.7"
  }
 },
 "nbformat": 4,
 "nbformat_minor": 4
}
